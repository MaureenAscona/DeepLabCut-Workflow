{
 "cells": [
  {
   "cell_type": "code",
   "execution_count": null,
   "metadata": {},
   "outputs": [],
   "source": [
    "# Project was created using the multi-animal project and 12 videos were added\n",
    "deeplabcut.create_new_project('ProjectName','Name', ['/usr/FullPath/OfVideo1.avi', '/usr/FullPath/OfVideo2.avi', '/usr/FullPath/OfVideo1.avi'…], copy_videos=True, multianimal=True)"
   ]
  },
  {
   "cell_type": "code",
   "execution_count": null,
   "metadata": {},
   "outputs": [],
   "source": [
    "# Bodyparts were configured through the .yaml file. \n",
    "edits = {'individuals': ['mouse'],\n",
    "         'uniquebodyparts': ['Snout'], ['Left_forelimb'], ['Right_forelimb'], ['Top_body'], ['Left_hindlimb'], ['Right_hindlimb'], ['Bottom_body'], ['Tail_2base'], ['Tail_15'], ['Tail_1'], ['Tail_05'], [' Tail_0'],\n",
    "         'skeleton': [['snout', 'Right_hindlimb'], ['Left_forelimb', 'Left_hindlimb'], ['snout', 'Left_ forelimb'], ['Right_forelimb', 'Right_hindlimb'], ['Left_forelimb', 'Right_forelimb'], ['Top_body', 'Bottom_body'], ['Bottom_body', 'Left_hindlimb'], ['Bottom_body', 'Right_hindlimb'], ['Top_body', 'Left_hindlimb'], ['Top_body', 'Right_hindlimb'], ['Right_hindlimb', ' Left_hindlimb '], ['Tail_2base', 'Right_hindlimb'], ['Tail_2base', 'Left_hindlimb'], ['Tail_2base', 'Bottom_body'], ['Tail_2base', 'Tail_15'], ['Tail_15', 'Tail_1'], ['Tail_1', 'Tail_05'], ['Tail_05', 'Tail_0'] , ['Tail_2base', 'Tail_0']]}\n",
    "deeplabcut.auxiliaryfunctions.edit_config(config_path, edits)"
   ]
  },
  {
   "cell_type": "code",
   "execution_count": null,
   "metadata": {},
   "outputs": [],
   "source": [
    "# Frames were extracted using the kmeans clustering algorithm\n",
    "deeplabcut.extract_frames(config_path, mode='automatic', algo='kmeans')"
   ]
  },
  {
   "cell_type": "code",
   "execution_count": null,
   "metadata": {},
   "outputs": [],
   "source": [
    "# Frames are labeled using napari – over 300 frames were labeled\n",
    "deeplabcut.label_frames(config_path)"
   ]
  },
  {
   "cell_type": "code",
   "execution_count": null,
   "metadata": {},
   "outputs": [],
   "source": [
    "# Training data set is created using ResNet152\n",
    "deeplabcut.create_training_dataset(config_path, net_type=resnet152)"
   ]
  },
  {
   "cell_type": "code",
   "execution_count": null,
   "metadata": {},
   "outputs": [],
   "source": [
    "# Train the network at 200,000 iterations until loss plateaus \n",
    "train_network(config_path,shuffle=1,trainingsetindex=0,gputouse=0,max_snapshots_to_keep=5,maxiters=200000)"
   ]
  },
  {
   "cell_type": "code",
   "execution_count": null,
   "metadata": {},
   "outputs": [],
   "source": [
    "# Analyze new video and created labeled video with skeleton to assess labeling accuracy\n",
    "deeplabcut.analyze_videos(config_path,videofile_path,gputouse=0,save_as_csv=True,dynamic=(True, .5, 10))\n",
    "deeplabcut.create_labeled_video(config_path,[videofile_path],draw_skeleton = True)"
   ]
  },
  {
   "cell_type": "code",
   "execution_count": null,
   "metadata": {},
   "outputs": [],
   "source": [
    "# Refine network and extract severe outlier frames (epsilon)\n",
    "deeplabcut.find_outliers_in_raw_data(config_path, pickle_file, video_file)\n",
    "deeplabcut.convert_detections2tracklets(..., identity_only=True)\n",
    "deeplabcut.extract_outlier_frames(config_path, [videofile_path], epsilon=400)"
   ]
  },
  {
   "cell_type": "code",
   "execution_count": null,
   "metadata": {},
   "outputs": [],
   "source": [
    "# Interpolate and filter predictions to refine labels\n",
    "deeplabcut.plot_trajectories(config_path,['videofile_path'],filtered = True)\n",
    "deeplabcut.refine_tracklets(path_config_file, pickle_or_h5_file, videofile_path, max_gap=0, min_swap_len=2, min_tracklet_len=2, trail_len=50)\n",
    "\n",
    "# Retrain the network, and recreate the video to assess refinement steps. Repeat these steps until videos have accurate tracking"
   ]
  },
  {
   "cell_type": "code",
   "execution_count": null,
   "metadata": {},
   "outputs": [],
   "source": [
    "# Create csv of skeleton lengths, output to python for data analysis \n",
    "deeplabcut.analyzeskeleton(config_path, videofile_path, save_as_csv=True)"
   ]
  }
 ],
 "metadata": {
  "language_info": {
   "name": "python"
  },
  "orig_nbformat": 4
 },
 "nbformat": 4,
 "nbformat_minor": 2
}
